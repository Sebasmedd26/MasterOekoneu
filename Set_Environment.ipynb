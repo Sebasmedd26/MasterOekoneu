{
 "cells": [
  {
   "cell_type": "code",
   "execution_count": 9,
   "metadata": {},
   "outputs": [
    {
     "name": "stdout",
     "output_type": "stream",
     "text": [
      "3.8.5\n",
      "3.1.4\n",
      "1.1.8\n"
     ]
    }
   ],
   "source": [
    "import rasterio as rs\n",
    "from platform import python_version\n",
    "print(python_version())\n",
    "print(rs.gdal_version())\n",
    "print(rs.__version__)"
   ]
  },
  {
   "cell_type": "code",
   "execution_count": 6,
   "metadata": {},
   "outputs": [
    {
     "name": "stdout",
     "output_type": "stream",
     "text": [
      "Processing c:\\users\\s79631\\downloads\\gdal-3.1.4-cp38-cp38-win_amd64.whl\n",
      "Installing collected packages: GDAL\n",
      "Successfully installed GDAL-3.1.4\n",
      "Note: you may need to restart the kernel to use updated packages.\n"
     ]
    }
   ],
   "source": [
    "pip install C:\\Users\\s79631\\Downloads\\GDAL-3.1.4-cp38-cp38-win_amd64.whl"
   ]
  },
  {
   "cell_type": "code",
   "execution_count": 7,
   "metadata": {},
   "outputs": [
    {
     "name": "stdout",
     "output_type": "stream",
     "text": [
      "Processing c:\\users\\s79631\\downloads\\rasterio-1.1.8-cp38-cp38-win_amd64.whl\n",
      "Requirement already satisfied: attrs in c:\\users\\s79631\\anaconda3\\lib\\site-packages (from rasterio==1.1.8) (20.3.0)\n",
      "Note: you may need to restart the kernel to use updated packages.Requirement already satisfied: click>=4.0 in c:\\users\\s79631\\anaconda3\\lib\\site-packages (from rasterio==1.1.8) (7.1.2)\n",
      "Collecting cligj>=0.5\n",
      "  Downloading cligj-0.7.1-py3-none-any.whl (7.1 kB)\n",
      "Requirement already satisfied: numpy in c:\\users\\s79631\\anaconda3\\lib\\site-packages (from rasterio==1.1.8) (1.19.2)\n",
      "Collecting affine\n",
      "  Downloading affine-2.3.0-py2.py3-none-any.whl (15 kB)\n",
      "Requirement already satisfied: gdal~=3.1.4 in c:\\users\\s79631\\anaconda3\\lib\\site-packages (from rasterio==1.1.8) (3.1.4)\n",
      "Collecting snuggs>=1.4.1\n",
      "  Downloading snuggs-1.4.7-py3-none-any.whl (5.4 kB)\n",
      "Collecting click-plugins\n",
      "  Downloading click_plugins-1.1.1-py2.py3-none-any.whl (7.5 kB)\n",
      "Requirement already satisfied: pyparsing>=2.1.6 in c:\\users\\s79631\\anaconda3\\lib\\site-packages (from snuggs>=1.4.1->rasterio==1.1.8) (2.4.7)\n",
      "Installing collected packages: cligj, affine, snuggs, click-plugins, rasterio\n",
      "Successfully installed affine-2.3.0 click-plugins-1.1.1 cligj-0.7.1 rasterio-1.1.8 snuggs-1.4.7\n",
      "\n"
     ]
    }
   ],
   "source": [
    "pip install C:\\Users\\s79631\\Downloads\\rasterio-1.1.8-cp38-cp38-win_amd64.whl"
   ]
  },
  {
   "cell_type": "code",
   "execution_count": null,
   "metadata": {},
   "outputs": [],
   "source": []
  }
 ],
 "metadata": {
  "kernelspec": {
   "display_name": "Python 3",
   "language": "python",
   "name": "python3"
  },
  "language_info": {
   "codemirror_mode": {
    "name": "ipython",
    "version": 3
   },
   "file_extension": ".py",
   "mimetype": "text/x-python",
   "name": "python",
   "nbconvert_exporter": "python",
   "pygments_lexer": "ipython3",
   "version": "3.8.5"
  }
 },
 "nbformat": 4,
 "nbformat_minor": 4
}
