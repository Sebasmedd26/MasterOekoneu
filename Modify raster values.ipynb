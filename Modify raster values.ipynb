{
 "cells": [
  {
   "cell_type": "code",
   "execution_count": 2,
   "metadata": {},
   "outputs": [
    {
     "name": "stdout",
     "output_type": "stream",
     "text": [
      "*********** Libraries were imported successfuly **********\n",
      "working directory: C:\\Users\\s79631\\Documents\\Python_ökoneu\n"
     ]
    }
   ],
   "source": [
    "#import libraries\n",
    "\n",
    "import rasterio as rs\n",
    "import numpy as np\n",
    "import matplotlib.pyplot as plt\n",
    "from PIL import Image\n",
    "import math\n",
    "from osgeo import gdal\n",
    "from rasterio.plot import show\n",
    "import os\n",
    "\n",
    "print('*********** Libraries were imported successfuly **********')\n",
    "print('working directory: '+ str(os.getcwd()))"
   ]
  },
  {
   "cell_type": "code",
   "execution_count": 3,
   "metadata": {},
   "outputs": [
    {
     "name": "stdout",
     "output_type": "stream",
     "text": [
      "**************** Image imported successfuly **************\n",
      "**********************************************************\n",
      "*********************** Image data ***********************\n",
      "Number of bands: 1\n",
      "Coordinate Reference System: EPSG:25833\n",
      "Image width:`20549\n",
      "Image height:`28889\n",
      "Number of Pixels:`593640061\n",
      "**********************************************************\n"
     ]
    },
    {
     "data": {
      "image/png": "[encoded data removed]",
      "text/plain": [
       "<Figure size 432x288 with 1 Axes>"
      ]
     },
     "metadata": {
      "needs_background": "light"
     },
     "output_type": "display_data"
    },
    {
     "data": {
      "text/plain": [
       "-32807.953"
      ]
     },
     "execution_count": 3,
     "metadata": {},
     "output_type": "execute_result"
    }
   ],
   "source": [
    "##Change directory to file folder\n",
    "##os.chdir('D:\\TEMP\\20200324_Sentinel2A')\n",
    "\n",
    "## open image to classify\n",
    "\n",
    "gdal.UseExceptions()\n",
    "img = rs.open ('20200304_roethepfuhl_chm_7_clipp.tif')\n",
    "\n",
    "print('**************** Image imported successfuly **************')\n",
    "\n",
    "## Print image data\n",
    "print('**********************************************************')\n",
    "print('*********************** Image data ***********************')\n",
    "print('Number of bands: ' + str(img.count))\n",
    "print('Coordinate Reference System: ' + str(img.crs))\n",
    "print('Image width:`' + str(img.width))\n",
    "print('Image height:`' + str(img.height))\n",
    "print('Number of Pixels:`' + str(int(img.height)*int(img.width)))\n",
    "print('**********************************************************')\n",
    "show(img)\n",
    "\n",
    "## get bands\n",
    "Band1 = img.read(1)\n",
    "\n",
    "## stats\n",
    "from scipy import stats\n",
    "np.nanmin(Band1)  #activate just if needed"
   ]
  },
  {
   "cell_type": "code",
   "execution_count": 4,
   "metadata": {},
   "outputs": [],
   "source": [
    "New_data = Band1\n",
    "seeker_column = 0\n",
    "while seeker_column < img.height:\n",
    "    seeker_row = 0\n",
    "    while seeker_row < img.width:\n",
    "        if Band1[seeker_column, seeker_row] < 0:\n",
    "            New_data[seeker_column, seeker_row] = 0\n",
    "        else:\n",
    "            New_data[seeker_column, seeker_row] = Band1[seeker_column, seeker_row]\n",
    "        seeker_row = seeker_row + 1\n",
    "    seeker_column = seeker_column + 1\n",
    "\n",
    "with rs.open(\n",
    "    '20200304_roethepfuhl_chm_7_clipp_python.tif',\n",
    "    'w',\n",
    "    driver='GTiff',\n",
    "    height=New_data.shape[0],\n",
    "    width=New_data.shape[1],\n",
    "    count=1,\n",
    "    dtype=New_data.dtype,\n",
    "    crs='epsg:25833',\n",
    "    transform=img.transform,\n",
    ") as dst:\n",
    "    dst.write(New_data, 1)"
   ]
  },
  {
   "cell_type": "code",
   "execution_count": 36,
   "metadata": {},
   "outputs": [
    {
     "data": {
      "image/png": "[encoded data removed]",
      "text/plain": [
       "<Figure size 432x288 with 1 Axes>"
      ]
     },
     "metadata": {
      "needs_background": "light"
     },
     "output_type": "display_data"
    },
    {
     "name": "stdout",
     "output_type": "stream",
     "text": [
      "<closed DatasetWriter name='DTM_BuckowerDorfteich_Catchment_fill_clipped_ready_to_fill_2.tif' mode='w'>\n"
     ]
    }
   ],
   "source": [
    "img1 = rs.open ('DTM_BuckowerDorfteich_Catchment_fill_clipped_ready_to_fill_2.tif')\n",
    "show(img1)\n",
    "print(dst)"
   ]
  },
  {
   "cell_type": "code",
   "execution_count": 30,
   "metadata": {},
   "outputs": [
    {
     "name": "stdout",
     "output_type": "stream",
     "text": [
      "[[0. 0. 0. ... 0. 0. 0.]\n",
      " [0. 0. 0. ... 0. 0. 0.]\n",
      " [0. 0. 0. ... 0. 0. 0.]\n",
      " ...\n",
      " [0. 0. 0. ... 0. 0. 0.]\n",
      " [0. 0. 0. ... 0. 0. 0.]\n",
      " [0. 0. 0. ... 0. 0. 0.]] 0\n"
     ]
    }
   ],
   "source": [
    "print (New_data,0)"
   ]
  },
  {
   "cell_type": "code",
   "execution_count": null,
   "metadata": {},
   "outputs": [],
   "source": []
  }
 ],
 "metadata": {
  "kernelspec": {
   "display_name": "Python 3",
   "language": "python",
   "name": "python3"
  },
  "language_info": {
   "codemirror_mode": {
    "name": "ipython",
    "version": 3
   },
   "file_extension": ".py",
   "mimetype": "text/x-python",
   "name": "python",
   "nbconvert_exporter": "python",
   "pygments_lexer": "ipython3",
   "version": "3.8.5"
  }
 },
 "nbformat": 4,
 "nbformat_minor": 4
}
